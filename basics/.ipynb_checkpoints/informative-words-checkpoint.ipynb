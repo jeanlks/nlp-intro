{
 "cells": [
  {
   "cell_type": "code",
   "execution_count": 11,
   "metadata": {},
   "outputs": [],
   "source": [
    "import nltk"
   ]
  },
  {
   "cell_type": "code",
   "execution_count": 12,
   "metadata": {},
   "outputs": [],
   "source": [
    "alice = nltk.corpus.gutenberg.words(\"carroll-alice.txt\")"
   ]
  },
  {
   "cell_type": "code",
   "execution_count": 13,
   "metadata": {},
   "outputs": [],
   "source": [
    "alice_fd = nltk.FreqDist(alice)"
   ]
  },
  {
   "cell_type": "code",
   "execution_count": 14,
   "metadata": {},
   "outputs": [],
   "source": [
    "alice_fd_100 = alice_fd.most_common(100)"
   ]
  },
  {
   "cell_type": "code",
   "execution_count": 15,
   "metadata": {},
   "outputs": [],
   "source": [
    "shakespeare = nltk.corpus.gutenberg.words(\"shakespeare-caesar.txt\")\n",
    "shakespeare_fd = nltk.FreqDist(shakespeare)"
   ]
  },
  {
   "cell_type": "code",
   "execution_count": 19,
   "metadata": {},
   "outputs": [],
   "source": [
    "shakespeare_fd_100 = shakespeare_fd.most_common(100)"
   ]
  },
  {
   "cell_type": "code",
   "execution_count": 20,
   "metadata": {},
   "outputs": [],
   "source": [
    "shakespeare_100 = [word[0] for word in shakespeare_fd_100]\n",
    "alice_100 = [word[0] for word in alice_fd_100]"
   ]
  },
  {
   "cell_type": "code",
   "execution_count": 21,
   "metadata": {},
   "outputs": [
    {
     "data": {
      "text/plain": [
       "{'?',\n",
       " 'Ant',\n",
       " 'Antony',\n",
       " 'Bru',\n",
       " 'Brut',\n",
       " 'Brutus',\n",
       " 'But',\n",
       " 'Caes',\n",
       " 'Caesar',\n",
       " 'Caesars',\n",
       " 'Cask',\n",
       " 'Cassi',\n",
       " 'Cassius',\n",
       " 'Enter',\n",
       " 'For',\n",
       " 'He',\n",
       " 'If',\n",
       " 'Lord',\n",
       " 'Noble',\n",
       " 'O',\n",
       " 'Rome',\n",
       " 'That',\n",
       " 'To',\n",
       " 'What',\n",
       " 'You',\n",
       " 'am',\n",
       " 'are',\n",
       " 'come',\n",
       " 'd',\n",
       " 'day',\n",
       " 'from',\n",
       " 'good',\n",
       " 'haue',\n",
       " 'heere',\n",
       " 'him',\n",
       " 'let',\n",
       " 'man',\n",
       " 'men',\n",
       " 'now',\n",
       " 'our',\n",
       " 'selfe',\n",
       " 'shall',\n",
       " 'should',\n",
       " 'st',\n",
       " 'thee',\n",
       " 'their',\n",
       " 'thou',\n",
       " 'thy',\n",
       " 'vs',\n",
       " 'we',\n",
       " 'well',\n",
       " 'will'}"
      ]
     },
     "execution_count": 21,
     "metadata": {},
     "output_type": "execute_result"
    }
   ],
   "source": [
    "set(shakespeare_100) - set(alice_100)"
   ]
  },
  {
   "cell_type": "code",
   "execution_count": null,
   "metadata": {},
   "outputs": [],
   "source": []
  }
 ],
 "metadata": {
  "kernelspec": {
   "display_name": "Python 3",
   "language": "python",
   "name": "python3"
  },
  "language_info": {
   "codemirror_mode": {
    "name": "ipython",
    "version": 3
   },
   "file_extension": ".py",
   "mimetype": "text/x-python",
   "name": "python",
   "nbconvert_exporter": "python",
   "pygments_lexer": "ipython3",
   "version": "3.6.5"
  }
 },
 "nbformat": 4,
 "nbformat_minor": 2
}
