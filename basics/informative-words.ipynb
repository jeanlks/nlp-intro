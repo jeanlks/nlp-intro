{
 "cells": [
  {
   "cell_type": "code",
   "execution_count": 1,
   "metadata": {},
   "outputs": [],
   "source": [
    "import nltk"
   ]
  },
  {
   "cell_type": "code",
   "execution_count": 3,
   "metadata": {},
   "outputs": [],
   "source": [
    "alice = nltk.corpus.gutenberg.words(\"carroll-alice.txt\")"
   ]
  },
  {
   "cell_type": "code",
   "execution_count": 5,
   "metadata": {},
   "outputs": [
    {
     "data": {
      "text/plain": [
       "['[', 'Alice', \"'\", 's', 'Adventures', 'in', ...]"
      ]
     },
     "execution_count": 5,
     "metadata": {},
     "output_type": "execute_result"
    }
   ],
   "source": [
    "alice"
   ]
  },
  {
   "cell_type": "code",
   "execution_count": 7,
   "metadata": {},
   "outputs": [],
   "source": [
    "alice_fd = nltk.FreqDist(alice)"
   ]
  },
  {
   "cell_type": "code",
   "execution_count": 8,
   "metadata": {},
   "outputs": [],
   "source": [
    "alice_fd_100 = alice_fd.most_common(100)"
   ]
  },
  {
   "cell_type": "code",
   "execution_count": 9,
   "metadata": {},
   "outputs": [
    {
     "data": {
      "text/plain": [
       "[(',', 1993),\n",
       " (\"'\", 1731),\n",
       " ('the', 1527),\n",
       " ('and', 802),\n",
       " ('.', 764),\n",
       " ('to', 725),\n",
       " ('a', 615),\n",
       " ('I', 543),\n",
       " ('it', 527),\n",
       " ('she', 509),\n",
       " ('of', 500),\n",
       " ('said', 456),\n",
       " (\",'\", 397),\n",
       " ('Alice', 396),\n",
       " ('in', 357),\n",
       " ('was', 352),\n",
       " ('you', 345),\n",
       " (\"!'\", 278),\n",
       " ('that', 275),\n",
       " ('as', 246),\n",
       " ('her', 243),\n",
       " (':', 216),\n",
       " ('t', 216),\n",
       " ('at', 202),\n",
       " ('s', 195),\n",
       " ('on', 189),\n",
       " (\".'\", 187),\n",
       " (';', 186),\n",
       " ('had', 177),\n",
       " ('with', 175),\n",
       " ('all', 173),\n",
       " ('!', 155),\n",
       " (\"?'\", 154),\n",
       " ('be', 145),\n",
       " ('-', 141),\n",
       " ('for', 140),\n",
       " ('--', 140),\n",
       " ('but', 133),\n",
       " ('not', 129),\n",
       " ('they', 129),\n",
       " ('very', 126),\n",
       " ('little', 125),\n",
       " ('so', 124),\n",
       " ('out', 116),\n",
       " ('this', 113),\n",
       " ('The', 108),\n",
       " ('he', 101),\n",
       " ('down', 99),\n",
       " ('up', 98),\n",
       " ('is', 97),\n",
       " ('about', 94),\n",
       " ('one', 94),\n",
       " ('his', 94),\n",
       " ('what', 93),\n",
       " ('them', 88),\n",
       " ('know', 87),\n",
       " ('were', 85),\n",
       " ('like', 84),\n",
       " ('went', 83),\n",
       " ('again', 83),\n",
       " ('herself', 83),\n",
       " ('if', 78),\n",
       " ('or', 76),\n",
       " ('thought', 74),\n",
       " ('Queen', 74),\n",
       " ('could', 73),\n",
       " ('have', 73),\n",
       " ('then', 72),\n",
       " ('would', 70),\n",
       " ('no', 69),\n",
       " ('when', 69),\n",
       " ('do', 68),\n",
       " ('time', 68),\n",
       " ('into', 67),\n",
       " ('And', 67),\n",
       " ('see', 66),\n",
       " ('there', 65),\n",
       " ('It', 64),\n",
       " ('off', 62),\n",
       " ('me', 61),\n",
       " ('King', 61),\n",
       " ('did', 60),\n",
       " ('*', 60),\n",
       " ('Turtle', 59),\n",
       " ('began', 58),\n",
       " ('m', 58),\n",
       " ('can', 57),\n",
       " ('way', 56),\n",
       " ('ll', 56),\n",
       " ('its', 56),\n",
       " ('Mock', 56),\n",
       " ('by', 55),\n",
       " ('my', 55),\n",
       " ('Hatter', 55),\n",
       " ('Gryphon', 55),\n",
       " ('quite', 53),\n",
       " ('your', 53),\n",
       " ('an', 52),\n",
       " ('much', 51),\n",
       " ('say', 51)]"
      ]
     },
     "execution_count": 9,
     "metadata": {},
     "output_type": "execute_result"
    }
   ],
   "source": []
  }
 ],
 "metadata": {
  "kernelspec": {
   "display_name": "Python 3",
   "language": "python",
   "name": "python3"
  },
  "language_info": {
   "codemirror_mode": {
    "name": "ipython",
    "version": 3
   },
   "file_extension": ".py",
   "mimetype": "text/x-python",
   "name": "python",
   "nbconvert_exporter": "python",
   "pygments_lexer": "ipython3",
   "version": "3.6.5"
  }
 },
 "nbformat": 4,
 "nbformat_minor": 2
}
